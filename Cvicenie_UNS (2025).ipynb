{
 "nbformat": 4,
 "nbformat_minor": 0,
 "metadata": {
  "colab": {
   "provenance": [],
   "collapsed_sections": [
    "REA441-XFiW0"
   ]
  },
  "kernelspec": {
   "name": "python3",
   "display_name": "Python 3 (ipykernel)",
   "language": "python"
  },
  "language_info": {
   "name": "python"
  }
 },
 "cells": [
  {
   "cell_type": "markdown",
   "source": [
    "## I."
   ],
   "metadata": {
    "id": "REA441-XFiW0"
   }
  },
  {
   "cell_type": "markdown",
   "source": [
    "Variables"
   ],
   "metadata": {
    "id": "3UAHYqJqzume"
   }
  },
  {
   "cell_type": "code",
   "metadata": {
    "colab": {
     "base_uri": "https://localhost:8080/"
    },
    "id": "1BKcIsiGzSNK",
    "outputId": "0a5a95bd-67ea-4b0c-9314-1fac739f347b",
    "ExecuteTime": {
     "end_time": "2025-10-20T13:17:43.402443Z",
     "start_time": "2025-10-20T13:17:43.393042Z"
    }
   },
   "source": [
    "a = \"python\"\n",
    "a = 12\n",
    "a = 3.14\n",
    "\n",
    "a = not False and True  # or\n",
    "type(a)"
   ],
   "outputs": [
    {
     "data": {
      "text/plain": [
       "bool"
      ]
     },
     "execution_count": 2,
     "metadata": {},
     "output_type": "execute_result"
    }
   ],
   "execution_count": 2
  },
  {
   "cell_type": "code",
   "source": [
    "def greet_me(name):\n",
    "    #print(\"Hello \" + name)\n",
    "    print(f\"Hello {name}\")\n",
    "\n",
    "\n",
    "\"\"\"\n",
    "def greet_me(name):\n",
    "    #print(\"Hello \" + name)\n",
    "     return f\"Hello {name}\"\n",
    "\"\"\"\n",
    "greet_me(\"Simon\")"
   ],
   "metadata": {
    "colab": {
     "base_uri": "https://localhost:8080/"
    },
    "id": "0bD8qt0z1AxM",
    "outputId": "3fae533f-c380-4dd2-ba76-09fefe75ff40",
    "ExecuteTime": {
     "end_time": "2025-10-20T13:17:43.565014Z",
     "start_time": "2025-10-20T13:17:43.557238Z"
    }
   },
   "outputs": [
    {
     "name": "stdout",
     "output_type": "stream",
     "text": [
      "Hello Simon\n"
     ]
    }
   ],
   "execution_count": 3
  },
  {
   "cell_type": "markdown",
   "source": [
    "Math"
   ],
   "metadata": {
    "id": "Qt3gsLMI2Igk"
   }
  },
  {
   "cell_type": "code",
   "source": [
    "c = 1 + 1  # - * /\n",
    "c = 3 ** 4\n",
    "c = 3 // 2\n",
    "c = 4 % 2  # == 0\n",
    "\n",
    "3 in {1, 2, 2}  #\n",
    "# \"a\" in \"asdefieorgierog\""
   ],
   "metadata": {
    "colab": {
     "base_uri": "https://localhost:8080/"
    },
    "id": "HabFC2DZ2Lzb",
    "outputId": "dc23a79a-5492-4a59-ccc2-3e06735ddebb",
    "ExecuteTime": {
     "end_time": "2025-10-20T13:18:24.618842Z",
     "start_time": "2025-10-20T13:18:24.610960Z"
    }
   },
   "outputs": [
    {
     "data": {
      "text/plain": [
       "False"
      ]
     },
     "execution_count": 15,
     "metadata": {},
     "output_type": "execute_result"
    }
   ],
   "execution_count": 15
  },
  {
   "cell_type": "markdown",
   "source": [
    "Itarables"
   ],
   "metadata": {
    "id": "pExrGump2v_D"
   }
  },
  {
   "cell_type": "code",
   "source": [
    "arr = [1, 2, 3, 4, 5]  # [], list()\n",
    "print(arr)\n",
    "arr.append(6)\n",
    "print(arr)\n",
    "arr\n",
    "print(arr)\n",
    "arr = [1, 2, 3] + [1, 1, 1]\n",
    "print(arr)\n",
    "arr = 3 * [1, 1, 1]\n",
    "print(arr)\n",
    "arr = [[1, 2, 3], [1, 6, 3], [1, 5, 3]]\n",
    "print(arr)\n",
    "# arr[1, :2] we need numpy"
   ],
   "metadata": {
    "id": "-8YbiR4k_uy1",
    "ExecuteTime": {
     "end_time": "2025-10-20T13:19:44.408209Z",
     "start_time": "2025-10-20T13:19:44.400931Z"
    }
   },
   "outputs": [
    {
     "name": "stdout",
     "output_type": "stream",
     "text": [
      "[1, 2, 3, 4, 5]\n",
      "[1, 2, 3, 4, 5, 6]\n",
      "[1, 2, 3, 4, 5, 6]\n",
      "[1, 2, 3, 1, 1, 1]\n",
      "[1, 1, 1, 1, 1, 1, 1, 1, 1]\n",
      "[[1, 2, 3], [1, 6, 3], [1, 5, 3]]\n"
     ]
    }
   ],
   "execution_count": 20
  },
  {
   "cell_type": "code",
   "source": [
    "\n",
    "\"\"\"\n",
    "for i in range(len(arr)):\n",
    "    print(arr[i])\n",
    "\n",
    "print()\n",
    "\n",
    "for el in arr:\n",
    "    print(el)\n",
    "\"\"\"\n",
    "for i, el in enumerate(arr):\n",
    "    print(f\"{i} --> {el}\")"
   ],
   "metadata": {
    "colab": {
     "base_uri": "https://localhost:8080/"
    },
    "id": "qOgPSTsk20ib",
    "outputId": "aa6dc5a9-bdff-4283-cfab-a2d2fbbf2210",
    "ExecuteTime": {
     "end_time": "2025-10-20T13:20:34.070062Z",
     "start_time": "2025-10-20T13:20:34.063652Z"
    }
   },
   "outputs": [
    {
     "name": "stdout",
     "output_type": "stream",
     "text": [
      "0 --> [1, 2, 3]\n",
      "1 --> [1, 6, 3]\n",
      "2 --> [1, 5, 3]\n"
     ]
    }
   ],
   "execution_count": 21
  },
  {
   "cell_type": "code",
   "source": [
    "def print_even(iterable_obj):\n",
    "    for i, el in enumerate(iterable_obj):\n",
    "        if i % 2 == 0: print(el)\n",
    "\n",
    "\n",
    "#print_even()\n",
    "a = \"001123456789\"\n",
    "\n",
    "print([i for idx, i in enumerate(a) if idx % 2 == 0])"
   ],
   "metadata": {
    "colab": {
     "base_uri": "https://localhost:8080/"
    },
    "id": "erAA670b4Mri",
    "outputId": "16bec084-f7b2-443f-800e-4d23dffe09a4",
    "ExecuteTime": {
     "end_time": "2025-10-20T13:17:43.911526Z",
     "start_time": "2025-10-20T13:17:43.902550Z"
    }
   },
   "outputs": [
    {
     "name": "stdout",
     "output_type": "stream",
     "text": [
      "['0', '1', '2', '4', '6', '8']\n"
     ]
    }
   ],
   "execution_count": 7
  },
  {
   "cell_type": "markdown",
   "source": [
    "Slicing"
   ],
   "metadata": {
    "id": "1Or-BCAa9ee-"
   }
  },
  {
   "cell_type": "code",
   "source": [
    "arr = ['0', '1', '2', '4', '6', '8']\n",
    "arr_b = arr[0:3]  # arr[:3]\n",
    "print(arr_b)\n",
    "arr_b = arr[-3:]\n",
    "print(arr_b)\n",
    "#arr_b[::-1]"
   ],
   "metadata": {
    "colab": {
     "base_uri": "https://localhost:8080/"
    },
    "id": "PnLCFvno61LA",
    "outputId": "eecd0a9e-3570-4d5d-c9c4-18ab8e9b3007",
    "ExecuteTime": {
     "end_time": "2025-10-20T13:22:11.045849Z",
     "start_time": "2025-10-20T13:22:11.039403Z"
    }
   },
   "outputs": [
    {
     "name": "stdout",
     "output_type": "stream",
     "text": [
      "['0', '1', '2']\n",
      "['4', '6', '8']\n"
     ]
    }
   ],
   "execution_count": 25
  },
  {
   "cell_type": "code",
   "source": [
    "s = \"sakdapoksjdmpwodkmcpwsoldvcsdkms\"\n",
    "d = {}  # dict(), {1: \"smejko\", ...}\n",
    "d[\"smejko\"] = \":)\"\n",
    "d[\"smutko\"] = \":(\"\n",
    "d[\"uzasko\"] = \":o\"\n",
    "print(d)\n",
    "\n",
    "# Freq. analysis\n",
    "s = \"sakdapoksjdmpwodkmcpwsoldvcsdkms\"\n",
    "dd = {}\n",
    "for i in s:\n",
    "    if i in dd:\n",
    "        dd[i] += 1\n",
    "    else:\n",
    "        dd[i] = 1\n",
    "\n",
    "dd"
   ],
   "metadata": {
    "colab": {
     "base_uri": "https://localhost:8080/"
    },
    "id": "5oeKjLsI96PN",
    "outputId": "636c52a3-34fb-4152-a475-eec89dfb80cb",
    "ExecuteTime": {
     "end_time": "2025-10-20T13:22:44.325175Z",
     "start_time": "2025-10-20T13:22:44.315788Z"
    }
   },
   "outputs": [
    {
     "name": "stdout",
     "output_type": "stream",
     "text": [
      "{'smejko': ':)', 'smutko': ':(', 'uzasko': ':o'}\n"
     ]
    },
    {
     "data": {
      "text/plain": [
       "{'s': 5,\n",
       " 'a': 2,\n",
       " 'k': 4,\n",
       " 'd': 5,\n",
       " 'p': 3,\n",
       " 'o': 3,\n",
       " 'j': 1,\n",
       " 'm': 3,\n",
       " 'w': 2,\n",
       " 'c': 2,\n",
       " 'l': 1,\n",
       " 'v': 1}"
      ]
     },
     "execution_count": 27,
     "metadata": {},
     "output_type": "execute_result"
    }
   ],
   "execution_count": 27
  },
  {
   "cell_type": "code",
   "source": [
    "import numpy as np\n",
    "\n",
    "a = [1, 2, 3]\n",
    "b = [1, 1, 1]\n",
    "\n",
    "c = np.array(a) + np.array(b)\n",
    "# print(c)\n",
    "c = 2 * c\n",
    "# print(c)\n",
    "\n",
    "m = [[1, 2, 3], [1, 6, 3], [1, 5, 3]]\n",
    "m = np.array(m)\n",
    "# print(m)\n",
    "# m = m[1, -2:]\n",
    "#m[1][-2:]\n",
    "# print(m)\n",
    "# m = m[: 1]\n",
    "# print(m)  # [riadky, stlpce]\n",
    "m = m[-1: -2:]\n",
    "print(m)"
   ],
   "metadata": {
    "colab": {
     "base_uri": "https://localhost:8080/"
    },
    "id": "rkjgt3Y0AYos",
    "outputId": "ce02cf79-3c0b-4eb4-b7d9-7ef9f5765b08",
    "ExecuteTime": {
     "end_time": "2025-10-20T13:31:28.986808Z",
     "start_time": "2025-10-20T13:31:28.979104Z"
    }
   },
   "outputs": [
    {
     "name": "stdout",
     "output_type": "stream",
     "text": [
      "[]\n"
     ]
    }
   ],
   "execution_count": 43
  },
  {
   "cell_type": "markdown",
   "source": [
    "## II."
   ],
   "metadata": {
    "id": "ZOn5MoGpF4qh"
   }
  },
  {
   "cell_type": "markdown",
   "source": [
    "Working with files"
   ],
   "metadata": {
    "id": "W2SZfP-DCPTa"
   }
  },
  {
   "cell_type": "code",
   "source": [
    "import numpy as np\n",
    "\n",
    "# strip, split, np.array(a, dtype=float)\n",
    "\n",
    "a = \"15.5,5,67 \".split(\",\")\n",
    "np.array(a, dtype=float)"
   ],
   "metadata": {
    "colab": {
     "base_uri": "https://localhost:8080/"
    },
    "id": "jHijccFcD9M4",
    "outputId": "c1b44ea9-1668-4517-c30a-cbfac2315f2e",
    "ExecuteTime": {
     "end_time": "2025-10-20T13:32:32.102731Z",
     "start_time": "2025-10-20T13:32:32.095405Z"
    }
   },
   "outputs": [
    {
     "data": {
      "text/plain": [
       "array([15,  5, 67])"
      ]
     },
     "execution_count": 48,
     "metadata": {},
     "output_type": "execute_result"
    }
   ],
   "execution_count": 48
  },
  {
   "cell_type": "code",
   "source": [
    "import numpy as np\n",
    "\n",
    "path = \"resorces/california_housing_test.csv\"\n",
    "with open(path, mode=\"r\") as file:\n",
    "    lines = file.readlines()\n",
    "    data = []\n",
    "    for line in lines[1:]:\n",
    "        data.append(np.array(line.strip().split(\",\"), dtype=float))\n",
    "\n",
    "data = np.array(data)\n",
    "data.shape"
   ],
   "metadata": {
    "colab": {
     "base_uri": "https://localhost:8080/"
    },
    "id": "7iCL9Ers5x3L",
    "outputId": "a2038009-e3e6-4e5c-f723-ab73b583da8d",
    "ExecuteTime": {
     "end_time": "2025-10-20T13:17:44.449393Z",
     "start_time": "2025-10-20T13:17:44.422475Z"
    }
   },
   "outputs": [
    {
     "data": {
      "text/plain": [
       "(3000, 9)"
      ]
     },
     "execution_count": 12,
     "metadata": {},
     "output_type": "execute_result"
    }
   ],
   "execution_count": 12
  },
  {
   "cell_type": "markdown",
   "source": [
    "Perceptron"
   ],
   "metadata": {
    "id": "V2U7rQbhGFGI"
   }
  },
  {
   "cell_type": "code",
   "source": [
    "def signum(val):\n",
    "    if val > 0:\n",
    "        return 1\n",
    "    else:\n",
    "        return 0\n",
    "\n",
    "\n",
    "def sigmoid(x):\n",
    "    return 1 / (1 + np.exp(-x))\n",
    "\n",
    "\n",
    "OR_data = [(np.array([0, 1, 1]), 1),\n",
    "           (np.array([1, 1, 1]), 1),\n",
    "           (np.array([1, 0, 1]), 1),\n",
    "           (np.array([0, 0, 1]), 0)]\n",
    "\n",
    "w = np.random.rand(3)\n",
    "lr = 0.1\n",
    "epochs = 15000\n",
    "errors = []\n",
    "for i in range(epochs):\n",
    "    idx = np.random.randint(0, len(OR_data))\n",
    "    x = OR_data[idx][0]\n",
    "    y = OR_data[idx][1]\n",
    "    y_ = sigmoid(np.dot(x, w))  # signum(np.dot(x, w)) #\n",
    "\n",
    "    error = y - y_\n",
    "    errors.append(error)\n",
    "    w = w + (lr * error * x)\n",
    "\n",
    "for x, y in OR_data:\n",
    "    predicted = signum(np.dot(w, x))\n",
    "    print(f\"{x[:2]} --> {y} | {predicted}\")\n",
    "\n",
    "import matplotlib.pyplot as plt\n",
    "\n",
    "plt.plot(errors)\n",
    "plt.show()"
   ],
   "metadata": {
    "colab": {
     "base_uri": "https://localhost:8080/",
     "height": 501
    },
    "id": "wSZCvQQ8FpZP",
    "outputId": "40fd49dc-4c3a-4078-8e18-862da30c4d8b",
    "ExecuteTime": {
     "end_time": "2025-10-20T13:42:00.650384Z",
     "start_time": "2025-10-20T13:42:00.353847Z"
    }
   },
   "outputs": [
    {
     "name": "stdout",
     "output_type": "stream",
     "text": [
      "[0 1] --> 1 | 1\n",
      "[1 1] --> 1 | 1\n",
      "[1 0] --> 1 | 1\n",
      "[0 0] --> 0 | 0\n"
     ]
    },
    {
     "data": {
      "text/plain": [
       "<Figure size 640x480 with 1 Axes>"
      ],
      "image/png": "[encoded data removed]"
     },
     "metadata": {},
     "output_type": "display_data",
     "jetTransient": {
      "display_id": null
     }
    }
   ],
   "execution_count": 54
  },
  {
   "metadata": {},
   "cell_type": "code",
   "outputs": [],
   "execution_count": null,
   "source": ""
  }
 ]
}
